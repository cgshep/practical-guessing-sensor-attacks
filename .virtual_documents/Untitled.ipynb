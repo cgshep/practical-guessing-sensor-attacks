import pandas as pd


pixel_garden = pd.read_csv("data/garden/GardenPixel-2025-03-23_17-03-12-8132b4b89fb54aa7a9762a4a82d6863d.csv")


pixel_garden.head()



